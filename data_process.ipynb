{
 "cells": [
  {
   "cell_type": "code",
   "execution_count": 28,
   "metadata": {},
   "outputs": [],
   "source": [
    "# -*- coding: utf-8 -*-\n",
    "from __future__ import unicode_literals\n",
    "import codecs\n",
    "import os\n",
    "import re\n",
    "DATA_PATH='data'\n",
    "\n",
    "#MSR\n",
    "TRAIN_MSR='original_data/msr_training.utf8'\n",
    "TEST_MSR='original_data/msr_test_gold.utf8'\n",
    "\n",
    "#BALA(test)\n",
    "TRAIN_BALA='original_data/bala_training.utf8'\n",
    "TEST_BALA='original_data/bala_test_gold.utf8'\n",
    "\n",
    "CHINESE_IDIOMS='original_data/idioms'\n",
    "\n",
    "\n",
    "rNUM = '(-|\\+)?\\d+((\\.|·)\\d+)?%?'\n",
    "rENG = '[A-Za-z_.]+'\n"
   ]
  },
  {
   "cell_type": "code",
   "execution_count": null,
   "metadata": {},
   "outputs": [],
   "source": []
  },
  {
   "cell_type": "code",
   "execution_count": 51,
   "metadata": {},
   "outputs": [],
   "source": [
    "def strQ2B(ustring):\n",
    "    \"\"\"全角转半角\"\"\"\n",
    "    rstring = \"\"\n",
    "    for uchar in ustring:\n",
    "        inside_code = ord(uchar)#返回对应的 ASCII 数值，或者 Unicode 数值\n",
    "        if inside_code == 12288:  # 全角空格直接转换\n",
    "            inside_code = 32\n",
    "        elif (inside_code >= 65281 and inside_code <= 65374):  # 全角字符（除空格）根据关系转化\n",
    "            inside_code -= 65248\n",
    "        rstring += unichr(inside_code)\n",
    "    return rstring"
   ]
  },
  {
   "cell_type": "code",
   "execution_count": 52,
   "metadata": {},
   "outputs": [],
   "source": [
    "#全角转半角、成语替换为'I',数字替换为0,字母替换为'X'\n",
    "def preprocess(input,output):\n",
    "    output_filename = os.path.join(DATA_PATH,output)\n",
    "\n",
    "    #取出成语词典中的成语\n",
    "    idioms=dict()\n",
    "    with codecs.open(CHINESE_IDIOMS,'r','utf-8') as f:    \n",
    "        for line in f:  \n",
    "            idioms[line.strip()]=1    #返回移除字符串头尾指定的字符(空格)生成的新字符串                              标记为1\n",
    "    \n",
    "    count_idioms = 0\n",
    "    sents=[]\n",
    "    #pku_training.utf8的文本处理：\n",
    "    with codecs.open(input,'r','utf-8') as fin:\n",
    "        with codecs.open(output_filename,'w','utf-8') as fout:\n",
    "            for line in fin:   #取pku_training 的每一行\n",
    "                sent=strQ2B(line).split( ) #此行 词 的集合\n",
    "                new_sent=[]\n",
    "                for word in sent:\n",
    "                    word=re.sub(rNUM,'0',word)  \n",
    "                    word=re.sub(rENG,'X',word)\n",
    "                    if idioms.get(word) is not None:\n",
    "                        count_idioms+=1\n",
    "                        word=u'I'\n",
    "                    new_sent.append(word)\n",
    "                sents.append(new_sent)\n",
    "            for sent in sents:\n",
    "                fout.write('  '.join(sent))\n",
    "                fout.write('\\n')\n",
    "    print 'replaced idioms count:%d' % count_idioms\n",
    "\n"
   ]
  },
  {
   "cell_type": "code",
   "execution_count": 53,
   "metadata": {},
   "outputs": [],
   "source": [
    "def split(dataset): #划分出验证集\n",
    "    dataset=os.path.join(DATA_PATH,dataset)\n",
    "    print 'split '+dataset+ '_train_all'\n",
    "    with codecs.open(dataset+'_train_all','r','utf-8') as f:\n",
    "        lines = f.readlines()\n",
    "        idx = int(len(lines)*0.9)\n",
    "        with codecs.open(dataset+'_train_tmp','wb','utf-8') as fo:\n",
    "            for line in lines[:idx]:\n",
    "                fo.write(line.strip()+'\\r')\n",
    "        with codecs.open(dataset+'_dev_tmp','wb','utf-8') as fo:\n",
    "            for line in lines[idx:]:\n",
    "                fo.write(line.strip()+'\\r')\n",
    "    os.remove(dataset+'_train_all')"
   ]
  },
  {
   "cell_type": "code",
   "execution_count": 48,
   "metadata": {},
   "outputs": [],
   "source": [
    "def word2tag(word):\n",
    "    if len(word)==1:\n",
    "        return ['S-SEG']\n",
    "    if len(word)==2:\n",
    "        return ['B-SEG','E-SEG']\n",
    "    tag=[]\n",
    "    tag.append('B-SEG')\n",
    "    for i in range(1,len(word)-1):\n",
    "        tag.append('M-SEG')\n",
    "    tag.append('E-SEG')\n",
    "    return tag"
   ]
  },
  {
   "cell_type": "code",
   "execution_count": 66,
   "metadata": {},
   "outputs": [],
   "source": [
    "def sentence_2_word(filename=None):\n",
    "    filename=os.path.join(DATA_PATH,filename)\n",
    "    x,y=[],[]\n",
    "    with codecs.open(filename+'_train_tmp','r','utf-8') as f:\n",
    "        with codecs.open(filename+'_train','wb','utf-8') as fo:\n",
    "            for line in f:\n",
    "                word_list=line.strip().split()  #每行单词存到list中\n",
    "                for word in word_list:\n",
    "                    tag=word2tag(word)\n",
    "                    for i in range(len(tag)):\n",
    "                        fo.write(word[i]+' '+tag[i]+'\\n')\n",
    "            fo.write('\\n')\n",
    "\n",
    "                        \n",
    "\n",
    "            \n",
    "            \n",
    "            \n",
    "    \n",
    "    \n",
    "    \n",
    "    \n",
    "    \n",
    "    "
   ]
  },
  {
   "cell_type": "code",
   "execution_count": 67,
   "metadata": {},
   "outputs": [],
   "source": [
    "# preprocess(TRAIN_BALA,'bala_train_all') \n",
    "# preprocess(TEST_BALA,'bala_test') \n",
    "\n",
    "# split('bala')\n",
    "\n",
    "# sentence_2_word('bala_train')\n",
    "# sentence_2_word('bala_test')\n",
    "# sentence_2_word('bala_dev')"
   ]
  },
  {
   "cell_type": "code",
   "execution_count": 68,
   "metadata": {},
   "outputs": [],
   "source": [
    "sentence_2_word('bala')"
   ]
  },
  {
   "cell_type": "code",
   "execution_count": null,
   "metadata": {},
   "outputs": [],
   "source": []
  },
  {
   "cell_type": "code",
   "execution_count": null,
   "metadata": {},
   "outputs": [],
   "source": []
  },
  {
   "cell_type": "code",
   "execution_count": null,
   "metadata": {},
   "outputs": [],
   "source": []
  }
 ],
 "metadata": {
  "kernelspec": {
   "display_name": "py27",
   "language": "python",
   "name": "py27"
  },
  "language_info": {
   "codemirror_mode": {
    "name": "ipython",
    "version": 2
   },
   "file_extension": ".py",
   "mimetype": "text/x-python",
   "name": "python",
   "nbconvert_exporter": "python",
   "pygments_lexer": "ipython2",
   "version": "2.7.15"
  }
 },
 "nbformat": 4,
 "nbformat_minor": 2
}
