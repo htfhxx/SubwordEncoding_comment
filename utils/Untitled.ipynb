{
 "cells": [
  {
   "cell_type": "code",
   "execution_count": 1,
   "metadata": {},
   "outputs": [],
   "source": [
    "# -*- coding: utf-8 -*-\n",
    "\n",
    "import sys\n",
    "import numpy as np\n",
    "from alphabet import Alphabet\n",
    "from functions import *\n",
    "import cPickle as pickle\n",
    "from gazetteer import Gazetteer\n",
    "\n",
    "\n",
    "START = \"</s>\"\n",
    "UNKNOWN = \"</unk>\"\n",
    "PADDING = \"</pad>\"\n",
    "NULLKEY = \"-null-\"\n",
    "\n"
   ]
  },
  {
   "cell_type": "code",
   "execution_count": 2,
   "metadata": {},
   "outputs": [],
   "source": [
    "word_alphabet = Alphabet('word')"
   ]
  },
  {
   "cell_type": "code",
   "execution_count": 3,
   "metadata": {},
   "outputs": [
    {
     "name": "stdout",
     "output_type": "stream",
     "text": [
      "<alphabet.Alphabet instance at 0x000000000CF31DC8>\n"
     ]
    }
   ],
   "source": [
    "print word_alphabet"
   ]
  },
  {
   "cell_type": "code",
   "execution_count": 27,
   "metadata": {},
   "outputs": [],
   "source": [
    "#调用语句：self.word_alphabet = Alphabet('word')\n",
    "\n",
    "name='word'\n",
    "label=False\n",
    "keep_growing=True\n",
    "class Alphabet2:\n",
    "    def __init__(self, name, label=False, keep_growing=True):\n",
    "        self.__name = name\n",
    "        self.UNKNOWN = \"</unk>\"\n",
    "        self.label = label\n",
    "        self.instance2index = {}\n",
    "        self.instances = []\n",
    "        self.keep_growing = keep_growing\n",
    "\n",
    "        # Index 0 is occupied by default, all else following.\n",
    "        self.default_index = 0\n",
    "        self.next_index = 1\n",
    "        if not self.label:\n",
    "            self.add(self.UNKNOWN)\n",
    "        print self.instances\n",
    "    def add(self, instance):\n",
    "        if instance not in self.instance2index:\n",
    "            self.instances.append(instance)\n",
    "            self.instance2index[instance] = self.next_index\n",
    "            self.next_index += 1"
   ]
  },
  {
   "cell_type": "code",
   "execution_count": 28,
   "metadata": {},
   "outputs": [
    {
     "name": "stdout",
     "output_type": "stream",
     "text": [
      "['</unk>']\n"
     ]
    }
   ],
   "source": [
    "word_alphabet = Alphabet2('word')\n"
   ]
  },
  {
   "cell_type": "code",
   "execution_count": 29,
   "metadata": {},
   "outputs": [],
   "source": [
    "word_list=[]"
   ]
  },
  {
   "cell_type": "code",
   "execution_count": 31,
   "metadata": {},
   "outputs": [],
   "source": [
    "word_list.append('a')\n",
    "word_list.append('a')\n",
    "word_list.append('b')\n",
    "word_list.append('c')\n",
    "word_list.append('d')\n"
   ]
  },
  {
   "cell_type": "code",
   "execution_count": 32,
   "metadata": {},
   "outputs": [
    {
     "name": "stdout",
     "output_type": "stream",
     "text": [
      "['a', 'a', 'b', 'c', 'd']\n"
     ]
    }
   ],
   "source": [
    "print(word_list)"
   ]
  },
  {
   "cell_type": "code",
   "execution_count": 33,
   "metadata": {},
   "outputs": [
    {
     "name": "stdout",
     "output_type": "stream",
     "text": [
      "['b', 'c', 'd']\n"
     ]
    }
   ],
   "source": [
    "print(word_list[2:])"
   ]
  },
  {
   "cell_type": "code",
   "execution_count": 34,
   "metadata": {},
   "outputs": [],
   "source": [
    "space = \"\" \n"
   ]
  },
  {
   "cell_type": "code",
   "execution_count": 38,
   "metadata": {},
   "outputs": [
    {
     "name": "stdout",
     "output_type": "stream",
     "text": [
      "aabcd\n"
     ]
    }
   ],
   "source": [
    "print(space.join(word_list[:]))"
   ]
  },
  {
   "cell_type": "code",
   "execution_count": null,
   "metadata": {},
   "outputs": [],
   "source": []
  },
  {
   "cell_type": "code",
   "execution_count": null,
   "metadata": {},
   "outputs": [],
   "source": []
  },
  {
   "cell_type": "code",
   "execution_count": null,
   "metadata": {},
   "outputs": [],
   "source": []
  },
  {
   "cell_type": "code",
   "execution_count": null,
   "metadata": {},
   "outputs": [],
   "source": []
  },
  {
   "cell_type": "code",
   "execution_count": null,
   "metadata": {},
   "outputs": [],
   "source": []
  },
  {
   "cell_type": "code",
   "execution_count": null,
   "metadata": {},
   "outputs": [],
   "source": []
  },
  {
   "cell_type": "code",
   "execution_count": null,
   "metadata": {},
   "outputs": [],
   "source": []
  },
  {
   "cell_type": "code",
   "execution_count": null,
   "metadata": {},
   "outputs": [],
   "source": []
  }
 ],
 "metadata": {
  "kernelspec": {
   "display_name": "py27",
   "language": "python",
   "name": "py27"
  },
  "language_info": {
   "codemirror_mode": {
    "name": "ipython",
    "version": 2
   },
   "file_extension": ".py",
   "mimetype": "text/x-python",
   "name": "python",
   "nbconvert_exporter": "python",
   "pygments_lexer": "ipython2",
   "version": "2.7.15"
  }
 },
 "nbformat": 4,
 "nbformat_minor": 2
}
