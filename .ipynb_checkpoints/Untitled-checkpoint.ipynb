{
 "cells": [
  {
   "cell_type": "code",
   "execution_count": 1,
   "metadata": {},
   "outputs": [],
   "source": [
    "# -*- coding: utf-8 -*-\n",
    "from __future__ import unicode_literals\n",
    "import codecs\n",
    "import os\n",
    "import re\n",
    "OUTPUT_PATH='data'\n",
    "\n",
    "'''\n",
    "TRAIN_DATASET='original_data/msr_training.utf8'\n",
    "TEST_GOLD_DATASET='original_data/msr_test_gold.utf8'\n",
    "TEST_DATASET='original_data/msr_test.utf8'\n",
    "'''\n",
    "TRAIN_DATASET='original_data/bala_training.utf8'\n",
    "TEST_GOLD_DATASET='original_data/bala_test_gold.utf8'\n",
    "TEST_DATASET='original_data/bala_test.utf8'\n",
    "\n",
    "CHINESE_IDIOMS='original_data/idioms'\n",
    "\n",
    "\n",
    "rNUM = '(-|\\+)?\\d+((\\.|·)\\d+)?%?'\n",
    "rENG = '[A-Za-z_.]+'\n"
   ]
  },
  {
   "cell_type": "code",
   "execution_count": 5,
   "metadata": {},
   "outputs": [],
   "source": [
    "def strQ2B(ustring):\n",
    "    \"\"\"全角转半角\"\"\"\n",
    "    rstring = \"\"\n",
    "    for uchar in ustring:\n",
    "        inside_code = ord(uchar)#返回对应的 ASCII 数值，或者 Unicode 数值\n",
    "        if inside_code == 12288:  # 全角空格直接转换\n",
    "            inside_code = 32\n",
    "        elif (inside_code >= 65281 and inside_code <= 65374):  # 全角字符（除空格）根据关系转化\n",
    "            inside_code -= 65248\n",
    "        rstring += unichr(inside_code)\n",
    "    return rstring"
   ]
  },
  {
   "cell_type": "code",
   "execution_count": 6,
   "metadata": {},
   "outputs": [],
   "source": [
    "#全角转半角、成语替换为'I',数字替换为0\n",
    "def preprocess(input,output):\n",
    "    output_filename = os.path.join(OUTPUT_PATH,output)\n",
    "\n",
    "    #取出成语词典中的成语\n",
    "    idioms=dict()\n",
    "    with codecs.open(CHINESE_IDIOMS,'r','utf-8') as f:    \n",
    "        for line in f:  \n",
    "            idioms[line.strip()]=1    #返回移除字符串头尾指定的字符(空格)生成的新字符串                              标记为1\n",
    "    \n",
    "    count_idioms = 0\n",
    "    sents=[]\n",
    "    #pku_training.utf8的文本处理：\n",
    "    with codecs.open(input,'r','utf-8') as fin:\n",
    "        with codecs.open(output_filename,'w','utf-8') as fout:\n",
    "            for line in fin:   #取pku_training 的每一行\n",
    "                sent=strQ2B(line).split( ) #此行 词 的集合\n",
    "                new_sent=[]\n",
    "                for word in sent:\n",
    "                    word=re.sub(rNUM,'0',word)  #正则 没懂 ？？？？？？？？？？？？？？？？\n",
    "                    word=re.sub(rENG,'X',word)\n",
    "                    if idioms.get(word) is not None:\n",
    "                        count_idioms+=1\n",
    "                        word=u'I'\n",
    "                    new_sent.append(word)\n",
    "                sents.append(new_sent)\n",
    "            for sent in sents:\n",
    "                fout.write('  '.join(sent))\n",
    "                fout.write('\\n')\n",
    "    #print 'idioms count:%d' % count_idioms"
   ]
  },
  {
   "cell_type": "code",
   "execution_count": 7,
   "metadata": {},
   "outputs": [],
   "source": [
    "preprocess(TRAIN_DATASET,'dataset_train_all') "
   ]
  },
  {
   "cell_type": "code",
   "execution_count": null,
   "metadata": {},
   "outputs": [],
   "source": []
  },
  {
   "cell_type": "code",
   "execution_count": null,
   "metadata": {},
   "outputs": [],
   "source": []
  },
  {
   "cell_type": "code",
   "execution_count": null,
   "metadata": {},
   "outputs": [],
   "source": []
  },
  {
   "cell_type": "code",
   "execution_count": null,
   "metadata": {},
   "outputs": [],
   "source": []
  },
  {
   "cell_type": "code",
   "execution_count": null,
   "metadata": {},
   "outputs": [],
   "source": []
  },
  {
   "cell_type": "code",
   "execution_count": null,
   "metadata": {},
   "outputs": [],
   "source": []
  }
 ],
 "metadata": {
  "kernelspec": {
   "display_name": "py27",
   "language": "python",
   "name": "py27"
  },
  "language_info": {
   "codemirror_mode": {
    "name": "ipython",
    "version": 2
   },
   "file_extension": ".py",
   "mimetype": "text/x-python",
   "name": "python",
   "nbconvert_exporter": "python",
   "pygments_lexer": "ipython2",
   "version": "2.7.15"
  }
 },
 "nbformat": 4,
 "nbformat_minor": 2
}
